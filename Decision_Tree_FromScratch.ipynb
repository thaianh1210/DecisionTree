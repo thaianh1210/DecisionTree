{
  "nbformat": 4,
  "nbformat_minor": 0,
  "metadata": {
    "colab": {
      "provenance": [],
      "authorship_tag": "ABX9TyOJTvUhejmF2QlAvAzM0wZN",
      "include_colab_link": true
    },
    "kernelspec": {
      "name": "python3",
      "display_name": "Python 3"
    },
    "language_info": {
      "name": "python"
    }
  },
  "cells": [
    {
      "cell_type": "markdown",
      "metadata": {
        "id": "view-in-github",
        "colab_type": "text"
      },
      "source": [
        "<a href=\"https://colab.research.google.com/github/thaianh1210/DecisionTree/blob/main/Decision_Tree_FromScratch.ipynb\" target=\"_parent\"><img src=\"https://colab.research.google.com/assets/colab-badge.svg\" alt=\"Open In Colab\"/></a>"
      ]
    },
    {
      "cell_type": "code",
      "execution_count": 33,
      "metadata": {
        "id": "coVQyA1SZII0"
      },
      "outputs": [],
      "source": [
        "import numpy as np\n",
        "from collections import Counter\n",
        "from sklearn.metrics import accuracy_score"
      ]
    },
    {
      "cell_type": "code",
      "source": [
        "#Calculate entropy\n",
        "def entropy(s):\n",
        "  count = np.bincount(s)\n",
        "  print(count)\n",
        "  percentages = count / len(s)\n",
        "  entropy = 0\n",
        "  for percentage in percentages:\n",
        "    if percentage > 0:\n",
        "      entropy += (percentage * np.log2(percentage))\n",
        "  return -entropy\n"
      ],
      "metadata": {
        "id": "F7GvxkXaZ07D"
      },
      "execution_count": 34,
      "outputs": []
    },
    {
      "cell_type": "code",
      "source": [
        "#Testcase\n",
        "s = [0, 0, 0, 0, 0, 0, 0, 1, 1, 1]\n",
        "case = np.round(entropy(s), 3)\n",
        "case"
      ],
      "metadata": {
        "colab": {
          "base_uri": "https://localhost:8080/"
        },
        "id": "5Y7Ga7p-aU8i",
        "outputId": "780b78a9-94bf-4c3a-c4d0-9638159e94ce"
      },
      "execution_count": 35,
      "outputs": [
        {
          "output_type": "stream",
          "name": "stdout",
          "text": [
            "[7 3]\n"
          ]
        },
        {
          "output_type": "execute_result",
          "data": {
            "text/plain": [
              "0.881"
            ]
          },
          "metadata": {},
          "execution_count": 35
        }
      ]
    },
    {
      "cell_type": "code",
      "source": [
        "#Calculate information gain\n",
        "def information_gain(parent, left_child, right_child):\n",
        "  num_left = len(left_child) / len(parent)\n",
        "  num_right = len(right_child) / len(parent)\n",
        "  gain = entropy(parent) - (num_left * entropy(left_child) + num_right * entropy(right_child))\n",
        "  return gain\n",
        ""
      ],
      "metadata": {
        "id": "EkqoZG76ak-m"
      },
      "execution_count": 36,
      "outputs": []
    },
    {
      "cell_type": "code",
      "source": [
        "#Testcase\n",
        "parent = [0, 0, 0, 0, 0, 0, 0, 0, 0, 0, 0, 0, 1, 1, 1, 1, 1, 1, 1, 1]\n",
        "left_child = [0, 0, 0, 0, 0, 0, 0, 0, 0, 0, 1, 1]\n",
        "right_child = [0, 0, 0, 0, 1, 1, 1, 1]\n",
        "print(np.round(information_gain(parent, left_child, right_child), 3))"
      ],
      "metadata": {
        "colab": {
          "base_uri": "https://localhost:8080/"
        },
        "id": "iEvZkAracvgb",
        "outputId": "972cc5b8-cd2a-4bd4-923a-7c6843045e30"
      },
      "execution_count": 37,
      "outputs": [
        {
          "output_type": "stream",
          "name": "stdout",
          "text": [
            "[12  8]\n",
            "[10  2]\n",
            "[4 4]\n",
            "0.181\n"
          ]
        }
      ]
    },
    {
      "cell_type": "code",
      "source": [
        "class TreeNode():\n",
        "  def __init__(self, feature = None, threshold = None, data_left = None, data_right = None, gain = None, value = None):\n",
        "    self.feature = feature\n",
        "    self.threshold = threshold\n",
        "    self.data_left = data_left\n",
        "    self.data_right = data_right\n",
        "    self.gain = gain\n",
        "    self.value = value\n",
        ""
      ],
      "metadata": {
        "id": "7E94CQjndBOd"
      },
      "execution_count": 38,
      "outputs": []
    },
    {
      "cell_type": "code",
      "source": [
        "class DecisionTree():\n",
        "  def __init__(self, min_samples_split = 2, max_depth = 5):\n",
        "    self.min_samples_split = min_samples_split\n",
        "    self.max_depth = max_depth\n",
        "    self.root = None\n",
        "\n",
        "  @staticmethod\n",
        "  #Calculate entropy\n",
        "  def _entropy(s):\n",
        "    #Convert to intergers to avoid runtime error\n",
        "    count = np.bincount(np.array(s, dtype = np.int64))\n",
        "    #Calculate the probability of each class label\n",
        "    percentages = count / len(s)\n",
        "    entropy = 0\n",
        "    for percentage in percentages:\n",
        "      if percentage > 0:\n",
        "        entropy += (percentage * np.log2(percentage))\n",
        "    return -entropy\n",
        "\n",
        "  def information_gain(self, parent, left_child, right_child):\n",
        "    '''\n",
        "    Helper function, calculates information gain from a parent and two child nodes.\n",
        "\n",
        "      :param parent: list, the parent node\n",
        "      :param left_child: list, left child of a parent\n",
        "      :param right_child: list, right child of a parent\n",
        "      :return: float, information gain\n",
        "    '''\n",
        "    num_left = len(left_child) / len(parent)\n",
        "    num_right = len(right_child) / len(parent)\n",
        "    gain = self._entropy(parent) - (num_left * self._entropy(left_child) + num_right * self._entropy(right_child))\n",
        "    return gain\n",
        "\n",
        "  def best_split(self, X, y):\n",
        "    '''\n",
        "    Helper function, calculates the best split for given features and target\n",
        "\n",
        "      :param X: np.array, features\n",
        "      :param y: np.array or list, target\n",
        "      :return: dict\n",
        "    '''\n",
        "    best_split = {}\n",
        "    best_info_gain = -1\n",
        "    n_rows, n_cols = X.shape\n",
        "\n",
        "    #For every dataset features:\n",
        "    for f_idx in range(n_cols):\n",
        "      X_curr = X[:, f_idx]\n",
        "      #For every unique value of the feature:\n",
        "      for threshold in np.unique(X_curr):\n",
        "        # Construct a dataset and split it to the left and right parts\n",
        "        # Left part includes records lower or equal to the threshold\n",
        "        # Right part includes records higher than the threshold\n",
        "        df = np.concatenate((X, y.reshape(1, -1).T), axis = 1)\n",
        "        df_left = np.array([row for row in df if row[f_idx] <= threshold])\n",
        "        df_right = np.array([row for row in df if row[f_idx] > threshold])\n",
        "\n",
        "        if len(df_left) > 0 and len(df_right) > 0:\n",
        "          y = df[:, -1]\n",
        "          y_left = df_left[:, -1]\n",
        "          y_right = df_right[:, -1]\n",
        "\n",
        "        gain = self.information_gain(y, y_left, y_right)\n",
        "        if gain > best_info_gain:\n",
        "          best_split = {\n",
        "              'feature_index':f_idx,\n",
        "              'threshold': threshold,\n",
        "              'df_left': df_left,\n",
        "              'df_right': df_right,\n",
        "              'gain': gain\n",
        "          }\n",
        "          best_info_gain = gain\n",
        "    return best_split\n",
        "\n",
        "  def _build(self, X, y, depth = 0):\n",
        "\n",
        "    '''\n",
        "      Helper recursive function, used to build a decision tree from the input data.\n",
        "\n",
        "      :param X: np.array, features\n",
        "      :param y: np.array or list, target\n",
        "      :param depth: current depth of a tree, used as a stopping criteria\n",
        "      :return: Node\n",
        "      '''\n",
        "    n_rows, n_cols = X.shape\n",
        "    if n_rows >= self.min_samples_split and depth <= self.max_depth:\n",
        "      #Get the best split\n",
        "      best = self.best_split(X, y)\n",
        "      if best['gain'] > 0:\n",
        "        #Build a tree on the left\n",
        "        left = self._build(\n",
        "            X = best['df_left'][:, :-1],\n",
        "            y = best['df_left'][:, -1]\n",
        "        )\n",
        "        right = self._build(\n",
        "            X = best['df_right'][:, :-1],\n",
        "            y = best['df_right'][:, -1]\n",
        "        )\n",
        "        return TreeNode(\n",
        "            feature = best['feature_index'],\n",
        "            threshold = best['threshold'],\n",
        "            data_left = left,\n",
        "            data_right = right,\n",
        "            gain = best['gain']\n",
        "        )\n",
        "    return TreeNode(\n",
        "        value=Counter(y).most_common(1)[0][0]\n",
        "        )\n",
        "  def fit(self, X, y):\n",
        "      self.root = self._build(X, y)\n",
        "\n",
        "  def _predict(self, x, tree):\n",
        "    if tree.value != None:\n",
        "      return tree.value\n",
        "    feature_value = x[tree.feature]\n",
        "\n",
        "    if feature_value <= tree.threshold:\n",
        "      return self._predict(x=x, tree = tree.data_left)\n",
        "\n",
        "    if feature_value > tree.threshold:\n",
        "      return self._predict(x=x, tree = tree.data_right)\n",
        "\n",
        "  def predict(self, X):\n",
        "    return [self._predict(x, self.root) for x in X]\n"
      ],
      "metadata": {
        "id": "gKV-d_qGgCgm"
      },
      "execution_count": 47,
      "outputs": []
    },
    {
      "cell_type": "code",
      "source": [
        "from sklearn.datasets import load_iris\n",
        "from sklearn.model_selection import train_test_split\n",
        "\n",
        "iris = load_iris()\n",
        "X = iris['data']\n",
        "y = iris['target']\n",
        "X_train, X_test, y_train, y_test = train_test_split(X, y, test_size=0.2, random_state=42)"
      ],
      "metadata": {
        "id": "Z3f9D4CPCYVf"
      },
      "execution_count": 40,
      "outputs": []
    },
    {
      "cell_type": "code",
      "source": [
        "model = DecisionTree()\n",
        "model.fit(X_train, y_train)\n",
        "preds = model.predict(X_test)\n",
        "accuracy_score(y_test, preds)"
      ],
      "metadata": {
        "colab": {
          "base_uri": "https://localhost:8080/"
        },
        "id": "6cm307iACY_E",
        "outputId": "608120e2-50d2-4e0d-b679-471c269a43f0"
      },
      "execution_count": 48,
      "outputs": [
        {
          "output_type": "execute_result",
          "data": {
            "text/plain": [
              "1.0"
            ]
          },
          "metadata": {},
          "execution_count": 48
        }
      ]
    }
  ]
}